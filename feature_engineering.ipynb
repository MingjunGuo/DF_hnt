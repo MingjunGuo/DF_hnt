{
 "cells": [
  {
   "cell_type": "code",
   "execution_count": 1,
   "metadata": {},
   "outputs": [],
   "source": [
    "# 引入相关包\n",
    "import zipfile\n",
    "import pandas as pd\n",
    "import time"
   ]
  },
  {
   "cell_type": "code",
   "execution_count": 2,
   "metadata": {},
   "outputs": [],
   "source": [
    "# 引入文件路劲：data_train, data_test, train_label\n",
    "trainZip = zipfile.ZipFile('data/data_train.zip')\n",
    "testZip = zipfile.ZipFile('data/data_test.zip')\n",
    "# columnsNames =  ['活塞工作时长', '发动机转速', '油泵转速', '泵送压力', '液压油温',  '流量档位', \n",
    "#                  '分配压力', '排量电流', '低压开关', '高压开关', '搅拌超压信号', '正泵', '反泵',]\n",
    "\n",
    "columnsNames_1 =  ['发动机转速', '油泵转速', '泵送压力', '液压油温',  '流量档位', \n",
    "                 '分配压力', '排量电流']\n",
    "columnsNames_2 = ['活塞工作时长', '低压开关', '高压开关', '正泵', '反泵']\n",
    "columnsNames_3 = ['搅拌超压信号']\n",
    "\n",
    "# 获取压缩包里面的文件路径\n",
    "trainfileNameList = trainZip.namelist()\n",
    "testfileNameList = testZip.namelist()"
   ]
  },
  {
   "cell_type": "code",
   "execution_count": 4,
   "metadata": {},
   "outputs": [],
   "source": [
    "# 定义两个list 用于初始存储提取的特征\n",
    "trainDFList = []\n",
    "testDFList = []"
   ]
  },
  {
   "cell_type": "markdown",
   "metadata": {},
   "source": [
    "### 构造训练集特征"
   ]
  },
  {
   "cell_type": "code",
   "execution_count": 5,
   "metadata": {},
   "outputs": [
    {
     "name": "stdout",
     "output_type": "stream",
     "text": [
      "total consuming for feature extraction: 201.7180564403534\n"
     ]
    }
   ],
   "source": [
    "# 循环遍历zip 包里面的文件路径， 解析CSV文件夹，然后读取文件里面的内容，构建相关特征\n",
    "start = time.time()\n",
    "for fname in trainfileNameList:\n",
    "    if fname.endswith('.csv'):\n",
    "        dict_f = {}\n",
    "        dict_f['file_name'] = fname.split('/')[-1]\n",
    "        f_info = trainZip.getinfo(fname)\n",
    "        fo = trainZip.open(f_info)\n",
    "        fDF = pd.read_csv(fo)\n",
    "        del fDF['设备类型']\n",
    "        dfmean=fDF.mean()\n",
    "        dfmin = fDF.min()\n",
    "        dfmax = fDF.max()\n",
    "        dfstd = fDF.std()\n",
    "        dfmedian = fDF.median()\n",
    "        for col in columnsNames_1:\n",
    "            dict_f[col+'_mean'] = dfmean[col]           \n",
    "            dict_f[col+'_min'] = dfmin[col]          \n",
    "            dict_f[col+'_max'] = dfmax[col]          \n",
    "            dict_f[col+'_std'] = dfstd[col]\n",
    "            dict_f[col+'_median'] = dfmedian[col]\n",
    "            dict_f[col+'range'] = dfmax[col]-dfmin[col]\n",
    "        for col in columnsNames_2:\n",
    "            dict_f[col] = dfmax[col]\n",
    "        for col in columnsNames_3:\n",
    "            if dfmax[col] == 0:\n",
    "                dict_f[col+'diya'] = 1\n",
    "                dict_f[col+'gaoya'] = 0\n",
    "            if dfmax[col] == 1:\n",
    "                dict_f[col+'diya'] = 0\n",
    "                dict_f[col+'gaoya'] = 1\n",
    "        dict_f['样本量'] = len(fDF)\n",
    "        trainDFList.append(dict_f)\n",
    "    else:\n",
    "        continue\n",
    "end = time.time()\n",
    "print('total consuming for feature extraction:', end-start)"
   ]
  },
  {
   "cell_type": "markdown",
   "metadata": {},
   "source": [
    "### 构建测试集特征"
   ]
  },
  {
   "cell_type": "code",
   "execution_count": 6,
   "metadata": {},
   "outputs": [
    {
     "name": "stdout",
     "output_type": "stream",
     "text": [
      "total consuming for feature extraction: 163.43720126152039\n"
     ]
    }
   ],
   "source": [
    "# 循环遍历zip 包里面的文件路径， 解析CSV文件夹，然后读取文件里面的内容，构建相关特征\n",
    "start = time.time()\n",
    "for fname in testfileNameList:\n",
    "    if fname.endswith('.csv'):\n",
    "        dict_f = {}\n",
    "        dict_f['file_name'] = fname.split('/')[-1]\n",
    "        f_info = testZip.getinfo(fname)\n",
    "        fo = testZip.open(f_info)\n",
    "        fDF = pd.read_csv(fo)\n",
    "        del fDF['设备类型']\n",
    "        dfmean=fDF.mean()\n",
    "        dfmin = fDF.min()\n",
    "        dfmax = fDF.max()\n",
    "        dfstd = fDF.std()\n",
    "        dfmedian = fDF.median()\n",
    "        for col in columnsNames_1:\n",
    "            dict_f[col+'_mean'] = dfmean[col]           \n",
    "            dict_f[col+'_min'] = dfmin[col]          \n",
    "            dict_f[col+'_max'] = dfmax[col]          \n",
    "            dict_f[col+'_std'] = dfstd[col]\n",
    "            dict_f[col+'_median'] = dfmedian[col]\n",
    "            dict_f[col+'range'] = dfmax[col]-dfmin[col]\n",
    "        for col in columnsNames_2:\n",
    "            dict_f[col] = dfmax[col] \n",
    "        for col in columnsNames_3:\n",
    "            if dfmax[col] == 0:\n",
    "                dict_f[col+'diya'] = 1\n",
    "                dict_f[col+'gaoya'] = 0\n",
    "            if dfmax[col] == 1:\n",
    "                dict_f[col+'diya'] = 0\n",
    "                dict_f[col+'gaoya'] = 1\n",
    "        dict_f['样本量'] = len(fDF)\n",
    "        testDFList.append(dict_f)\n",
    "    else:\n",
    "        continue\n",
    "end = time.time()\n",
    "print('total consuming for feature extraction:', end-start)"
   ]
  },
  {
   "cell_type": "markdown",
   "metadata": {},
   "source": [
    "### 转化特征list 为array, 然后保存"
   ]
  },
  {
   "cell_type": "code",
   "execution_count": 7,
   "metadata": {},
   "outputs": [],
   "source": [
    "trainDF = pd.DataFrame(trainDFList)\n",
    "testDF = pd.DataFrame(testDFList)"
   ]
  },
  {
   "cell_type": "code",
   "execution_count": 8,
   "metadata": {},
   "outputs": [
    {
     "data": {
      "text/plain": [
       "Index(['file_name', '低压开关', '分配压力_max', '分配压力_mean', '分配压力_median', '分配压力_min',\n",
       "       '分配压力_std', '分配压力range', '反泵', '发动机转速_max', '发动机转速_mean',\n",
       "       '发动机转速_median', '发动机转速_min', '发动机转速_std', '发动机转速range', '排量电流_max',\n",
       "       '排量电流_mean', '排量电流_median', '排量电流_min', '排量电流_std', '排量电流range',\n",
       "       '搅拌超压信号diya', '搅拌超压信号gaoya', '样本量', '正泵', '油泵转速_max', '油泵转速_mean',\n",
       "       '油泵转速_median', '油泵转速_min', '油泵转速_std', '油泵转速range', '泵送压力_max',\n",
       "       '泵送压力_mean', '泵送压力_median', '泵送压力_min', '泵送压力_std', '泵送压力range',\n",
       "       '活塞工作时长', '流量档位_max', '流量档位_mean', '流量档位_median', '流量档位_min',\n",
       "       '流量档位_std', '流量档位range', '液压油温_max', '液压油温_mean', '液压油温_median',\n",
       "       '液压油温_min', '液压油温_std', '液压油温range', '高压开关'],\n",
       "      dtype='object')"
      ]
     },
     "execution_count": 8,
     "metadata": {},
     "output_type": "execute_result"
    }
   ],
   "source": [
    "trainDF.columns"
   ]
  },
  {
   "cell_type": "code",
   "execution_count": 11,
   "metadata": {},
   "outputs": [
    {
     "data": {
      "text/plain": [
       "1    0.0\n",
       "2    0.0\n",
       "Name: 低压开关, dtype: float64"
      ]
     },
     "execution_count": 11,
     "metadata": {},
     "output_type": "execute_result"
    }
   ],
   "source": [
    "trainDF[1:3]['低压开关']"
   ]
  },
  {
   "cell_type": "code",
   "execution_count": 12,
   "metadata": {},
   "outputs": [
    {
     "name": "stdout",
     "output_type": "stream",
     "text": [
      "total consuming: 6.2866411209106445\n"
     ]
    }
   ],
   "source": [
    "start = time.time()\n",
    "trainDF.to_csv('data/train_features_3.csv', header=True, index=False)\n",
    "testDF.to_csv('data/test_features_3.csv', header=True, index=False)\n",
    "end = time.time()\n",
    "print('total consuming:', end-start)"
   ]
  },
  {
   "cell_type": "code",
   "execution_count": null,
   "metadata": {},
   "outputs": [],
   "source": []
  }
 ],
 "metadata": {
  "kernelspec": {
   "display_name": "Python 3",
   "language": "python",
   "name": "python3"
  },
  "language_info": {
   "codemirror_mode": {
    "name": "ipython",
    "version": 3
   },
   "file_extension": ".py",
   "mimetype": "text/x-python",
   "name": "python",
   "nbconvert_exporter": "python",
   "pygments_lexer": "ipython3",
   "version": "3.6.8"
  }
 },
 "nbformat": 4,
 "nbformat_minor": 2
}
