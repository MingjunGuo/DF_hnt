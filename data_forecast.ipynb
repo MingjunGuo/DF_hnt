{
 "cells": [
  {
   "cell_type": "markdown",
   "metadata": {},
   "source": [
    "### 一、引入相关包（从baseline 开始做起，不断提高）"
   ]
  },
  {
   "cell_type": "code",
   "execution_count": 1,
   "metadata": {},
   "outputs": [],
   "source": [
    "import numpy as np\n",
    "import pandas as pd\n",
    "\n",
    "# 用于数据拆分\n",
    "from sklearn.model_selection import StratifiedKFold\n",
    "# 用于对应评分标准\n",
    "from sklearn.metrics import f1_score\n",
    "# 选择机器学习库\n",
    "import lightgbm as lgb\n",
    "# auc 用于评判\n",
    "from sklearn.metrics import roc_auc_score\n",
    "\n",
    "import matplotlib.pyplot as plt\n",
    "%matplotlib inline"
   ]
  },
  {
   "cell_type": "markdown",
   "metadata": {},
   "source": [
    "### 二、读取train_feature/test_feature/train_labels"
   ]
  },
  {
   "cell_type": "code",
   "execution_count": 2,
   "metadata": {},
   "outputs": [],
   "source": [
    "trainDF = pd.read_csv('data/train_features_3.csv') # 105列\n",
    "testDF = pd.read_csv('data/test_features_3.csv') # 105 列\n",
    "trainLabel = pd.read_csv('train_labels.csv') # 2 列"
   ]
  },
  {
   "cell_type": "code",
   "execution_count": 3,
   "metadata": {},
   "outputs": [
    {
     "data": {
      "text/plain": [
       "63817"
      ]
     },
     "execution_count": 3,
     "metadata": {},
     "output_type": "execute_result"
    }
   ],
   "source": [
    "len(trainDF)"
   ]
  },
  {
   "cell_type": "code",
   "execution_count": 4,
   "metadata": {},
   "outputs": [
    {
     "data": {
      "text/plain": [
       "52250"
      ]
     },
     "execution_count": 4,
     "metadata": {},
     "output_type": "execute_result"
    }
   ],
   "source": [
    "len(testDF)"
   ]
  },
  {
   "cell_type": "code",
   "execution_count": 5,
   "metadata": {},
   "outputs": [
    {
     "data": {
      "text/html": [
       "<div>\n",
       "<style scoped>\n",
       "    .dataframe tbody tr th:only-of-type {\n",
       "        vertical-align: middle;\n",
       "    }\n",
       "\n",
       "    .dataframe tbody tr th {\n",
       "        vertical-align: top;\n",
       "    }\n",
       "\n",
       "    .dataframe thead th {\n",
       "        text-align: right;\n",
       "    }\n",
       "</style>\n",
       "<table border=\"1\" class=\"dataframe\">\n",
       "  <thead>\n",
       "    <tr style=\"text-align: right;\">\n",
       "      <th></th>\n",
       "      <th>file_name</th>\n",
       "      <th>低压开关</th>\n",
       "      <th>分配压力_max</th>\n",
       "      <th>分配压力_mean</th>\n",
       "      <th>分配压力_median</th>\n",
       "      <th>分配压力_min</th>\n",
       "      <th>分配压力_std</th>\n",
       "      <th>分配压力range</th>\n",
       "      <th>反泵</th>\n",
       "      <th>发动机转速_max</th>\n",
       "      <th>...</th>\n",
       "      <th>流量档位_min</th>\n",
       "      <th>流量档位_std</th>\n",
       "      <th>流量档位range</th>\n",
       "      <th>液压油温_max</th>\n",
       "      <th>液压油温_mean</th>\n",
       "      <th>液压油温_median</th>\n",
       "      <th>液压油温_min</th>\n",
       "      <th>液压油温_std</th>\n",
       "      <th>液压油温range</th>\n",
       "      <th>高压开关</th>\n",
       "    </tr>\n",
       "  </thead>\n",
       "  <tbody>\n",
       "    <tr>\n",
       "      <th>0</th>\n",
       "      <td>0001c9f874fa7f7a5d5d21eb4aca55cd.csv</td>\n",
       "      <td>0.0</td>\n",
       "      <td>75.58</td>\n",
       "      <td>60.766058</td>\n",
       "      <td>61.27</td>\n",
       "      <td>44.75</td>\n",
       "      <td>5.026009</td>\n",
       "      <td>30.83</td>\n",
       "      <td>1.0</td>\n",
       "      <td>4989.44</td>\n",
       "      <td>...</td>\n",
       "      <td>9.86</td>\n",
       "      <td>2.706142</td>\n",
       "      <td>8.24</td>\n",
       "      <td>97.30</td>\n",
       "      <td>89.095839</td>\n",
       "      <td>88.900</td>\n",
       "      <td>73.31</td>\n",
       "      <td>4.531313</td>\n",
       "      <td>23.99</td>\n",
       "      <td>1.0</td>\n",
       "    </tr>\n",
       "    <tr>\n",
       "      <th>1</th>\n",
       "      <td>0001cd6beea6ec459f2171f58f029217.csv</td>\n",
       "      <td>0.0</td>\n",
       "      <td>76.63</td>\n",
       "      <td>69.228435</td>\n",
       "      <td>69.31</td>\n",
       "      <td>47.75</td>\n",
       "      <td>4.665739</td>\n",
       "      <td>28.88</td>\n",
       "      <td>0.0</td>\n",
       "      <td>4429.11</td>\n",
       "      <td>...</td>\n",
       "      <td>0.12</td>\n",
       "      <td>1.973907</td>\n",
       "      <td>6.92</td>\n",
       "      <td>80.47</td>\n",
       "      <td>69.811739</td>\n",
       "      <td>70.190</td>\n",
       "      <td>60.57</td>\n",
       "      <td>4.027943</td>\n",
       "      <td>19.90</td>\n",
       "      <td>1.0</td>\n",
       "    </tr>\n",
       "    <tr>\n",
       "      <th>2</th>\n",
       "      <td>000247cf38d9c373e79a43121fd6b3f6.csv</td>\n",
       "      <td>0.0</td>\n",
       "      <td>83.60</td>\n",
       "      <td>63.588103</td>\n",
       "      <td>64.80</td>\n",
       "      <td>37.26</td>\n",
       "      <td>7.429722</td>\n",
       "      <td>46.34</td>\n",
       "      <td>0.0</td>\n",
       "      <td>5328.43</td>\n",
       "      <td>...</td>\n",
       "      <td>6.28</td>\n",
       "      <td>2.847176</td>\n",
       "      <td>11.11</td>\n",
       "      <td>72.61</td>\n",
       "      <td>62.118707</td>\n",
       "      <td>61.855</td>\n",
       "      <td>53.30</td>\n",
       "      <td>4.893397</td>\n",
       "      <td>19.31</td>\n",
       "      <td>1.0</td>\n",
       "    </tr>\n",
       "  </tbody>\n",
       "</table>\n",
       "<p>3 rows × 50 columns</p>\n",
       "</div>"
      ],
      "text/plain": [
       "                              file_name  低压开关  分配压力_max  分配压力_mean  \\\n",
       "0  0001c9f874fa7f7a5d5d21eb4aca55cd.csv   0.0     75.58  60.766058   \n",
       "1  0001cd6beea6ec459f2171f58f029217.csv   0.0     76.63  69.228435   \n",
       "2  000247cf38d9c373e79a43121fd6b3f6.csv   0.0     83.60  63.588103   \n",
       "\n",
       "   分配压力_median  分配压力_min  分配压力_std  分配压力range   反泵  发动机转速_max  ...   流量档位_min  \\\n",
       "0        61.27     44.75  5.026009      30.83  1.0    4989.44  ...       9.86   \n",
       "1        69.31     47.75  4.665739      28.88  0.0    4429.11  ...       0.12   \n",
       "2        64.80     37.26  7.429722      46.34  0.0    5328.43  ...       6.28   \n",
       "\n",
       "   流量档位_std  流量档位range  液压油温_max  液压油温_mean  液压油温_median  液压油温_min  液压油温_std  \\\n",
       "0  2.706142       8.24     97.30  89.095839       88.900     73.31  4.531313   \n",
       "1  1.973907       6.92     80.47  69.811739       70.190     60.57  4.027943   \n",
       "2  2.847176      11.11     72.61  62.118707       61.855     53.30  4.893397   \n",
       "\n",
       "   液压油温range  高压开关  \n",
       "0      23.99   1.0  \n",
       "1      19.90   1.0  \n",
       "2      19.31   1.0  \n",
       "\n",
       "[3 rows x 50 columns]"
      ]
     },
     "execution_count": 5,
     "metadata": {},
     "output_type": "execute_result"
    }
   ],
   "source": [
    "# 数据初探\n",
    "trainDF.head(3)"
   ]
  },
  {
   "cell_type": "code",
   "execution_count": 6,
   "metadata": {},
   "outputs": [
    {
     "data": {
      "text/html": [
       "<div>\n",
       "<style scoped>\n",
       "    .dataframe tbody tr th:only-of-type {\n",
       "        vertical-align: middle;\n",
       "    }\n",
       "\n",
       "    .dataframe tbody tr th {\n",
       "        vertical-align: top;\n",
       "    }\n",
       "\n",
       "    .dataframe thead th {\n",
       "        text-align: right;\n",
       "    }\n",
       "</style>\n",
       "<table border=\"1\" class=\"dataframe\">\n",
       "  <thead>\n",
       "    <tr style=\"text-align: right;\">\n",
       "      <th></th>\n",
       "      <th>file_name</th>\n",
       "      <th>低压开关</th>\n",
       "      <th>分配压力_max</th>\n",
       "      <th>分配压力_mean</th>\n",
       "      <th>分配压力_median</th>\n",
       "      <th>分配压力_min</th>\n",
       "      <th>分配压力_std</th>\n",
       "      <th>分配压力range</th>\n",
       "      <th>反泵</th>\n",
       "      <th>发动机转速_max</th>\n",
       "      <th>...</th>\n",
       "      <th>流量档位_min</th>\n",
       "      <th>流量档位_std</th>\n",
       "      <th>流量档位range</th>\n",
       "      <th>液压油温_max</th>\n",
       "      <th>液压油温_mean</th>\n",
       "      <th>液压油温_median</th>\n",
       "      <th>液压油温_min</th>\n",
       "      <th>液压油温_std</th>\n",
       "      <th>液压油温range</th>\n",
       "      <th>高压开关</th>\n",
       "    </tr>\n",
       "  </thead>\n",
       "  <tbody>\n",
       "    <tr>\n",
       "      <th>0</th>\n",
       "      <td>0000c0df1049027f16115f76a35a9859.csv</td>\n",
       "      <td>0.0</td>\n",
       "      <td>84.97</td>\n",
       "      <td>67.377937</td>\n",
       "      <td>66.98</td>\n",
       "      <td>51.72</td>\n",
       "      <td>8.062021</td>\n",
       "      <td>33.25</td>\n",
       "      <td>0.0</td>\n",
       "      <td>4664.38</td>\n",
       "      <td>...</td>\n",
       "      <td>2.12</td>\n",
       "      <td>1.621375</td>\n",
       "      <td>9.34</td>\n",
       "      <td>79.53</td>\n",
       "      <td>69.669524</td>\n",
       "      <td>69.375</td>\n",
       "      <td>60.77</td>\n",
       "      <td>4.930090</td>\n",
       "      <td>18.76</td>\n",
       "      <td>1.0</td>\n",
       "    </tr>\n",
       "    <tr>\n",
       "      <th>1</th>\n",
       "      <td>0002edc18cd1df5fae01acd823596185.csv</td>\n",
       "      <td>0.0</td>\n",
       "      <td>70.85</td>\n",
       "      <td>62.093643</td>\n",
       "      <td>64.20</td>\n",
       "      <td>3.31</td>\n",
       "      <td>9.697340</td>\n",
       "      <td>67.54</td>\n",
       "      <td>1.0</td>\n",
       "      <td>5297.24</td>\n",
       "      <td>...</td>\n",
       "      <td>5.38</td>\n",
       "      <td>6.884416</td>\n",
       "      <td>24.10</td>\n",
       "      <td>73.73</td>\n",
       "      <td>59.058682</td>\n",
       "      <td>59.410</td>\n",
       "      <td>46.07</td>\n",
       "      <td>6.048316</td>\n",
       "      <td>27.66</td>\n",
       "      <td>1.0</td>\n",
       "    </tr>\n",
       "    <tr>\n",
       "      <th>2</th>\n",
       "      <td>00041c3a10b84c87e236c65ce5fce6da.csv</td>\n",
       "      <td>0.0</td>\n",
       "      <td>68.40</td>\n",
       "      <td>58.062158</td>\n",
       "      <td>57.61</td>\n",
       "      <td>43.65</td>\n",
       "      <td>4.048956</td>\n",
       "      <td>24.75</td>\n",
       "      <td>1.0</td>\n",
       "      <td>5051.28</td>\n",
       "      <td>...</td>\n",
       "      <td>0.34</td>\n",
       "      <td>4.232711</td>\n",
       "      <td>24.83</td>\n",
       "      <td>123.93</td>\n",
       "      <td>112.386619</td>\n",
       "      <td>113.160</td>\n",
       "      <td>99.88</td>\n",
       "      <td>5.455524</td>\n",
       "      <td>24.05</td>\n",
       "      <td>1.0</td>\n",
       "    </tr>\n",
       "  </tbody>\n",
       "</table>\n",
       "<p>3 rows × 50 columns</p>\n",
       "</div>"
      ],
      "text/plain": [
       "                              file_name  低压开关  分配压力_max  分配压力_mean  \\\n",
       "0  0000c0df1049027f16115f76a35a9859.csv   0.0     84.97  67.377937   \n",
       "1  0002edc18cd1df5fae01acd823596185.csv   0.0     70.85  62.093643   \n",
       "2  00041c3a10b84c87e236c65ce5fce6da.csv   0.0     68.40  58.062158   \n",
       "\n",
       "   分配压力_median  分配压力_min  分配压力_std  分配压力range   反泵  发动机转速_max  ...   流量档位_min  \\\n",
       "0        66.98     51.72  8.062021      33.25  0.0    4664.38  ...       2.12   \n",
       "1        64.20      3.31  9.697340      67.54  1.0    5297.24  ...       5.38   \n",
       "2        57.61     43.65  4.048956      24.75  1.0    5051.28  ...       0.34   \n",
       "\n",
       "   流量档位_std  流量档位range  液压油温_max   液压油温_mean  液压油温_median  液压油温_min  液压油温_std  \\\n",
       "0  1.621375       9.34     79.53   69.669524       69.375     60.77  4.930090   \n",
       "1  6.884416      24.10     73.73   59.058682       59.410     46.07  6.048316   \n",
       "2  4.232711      24.83    123.93  112.386619      113.160     99.88  5.455524   \n",
       "\n",
       "   液压油温range  高压开关  \n",
       "0      18.76   1.0  \n",
       "1      27.66   1.0  \n",
       "2      24.05   1.0  \n",
       "\n",
       "[3 rows x 50 columns]"
      ]
     },
     "execution_count": 6,
     "metadata": {},
     "output_type": "execute_result"
    }
   ],
   "source": [
    "testDF.head(3)"
   ]
  },
  {
   "cell_type": "code",
   "execution_count": 7,
   "metadata": {},
   "outputs": [
    {
     "data": {
      "text/html": [
       "<div>\n",
       "<style scoped>\n",
       "    .dataframe tbody tr th:only-of-type {\n",
       "        vertical-align: middle;\n",
       "    }\n",
       "\n",
       "    .dataframe tbody tr th {\n",
       "        vertical-align: top;\n",
       "    }\n",
       "\n",
       "    .dataframe thead th {\n",
       "        text-align: right;\n",
       "    }\n",
       "</style>\n",
       "<table border=\"1\" class=\"dataframe\">\n",
       "  <thead>\n",
       "    <tr style=\"text-align: right;\">\n",
       "      <th></th>\n",
       "      <th>sample_file_name</th>\n",
       "      <th>label</th>\n",
       "    </tr>\n",
       "  </thead>\n",
       "  <tbody>\n",
       "    <tr>\n",
       "      <th>0</th>\n",
       "      <td>0001c9f874fa7f7a5d5d21eb4aca55cd.csv</td>\n",
       "      <td>1</td>\n",
       "    </tr>\n",
       "    <tr>\n",
       "      <th>1</th>\n",
       "      <td>0001cd6beea6ec459f2171f58f029217.csv</td>\n",
       "      <td>1</td>\n",
       "    </tr>\n",
       "    <tr>\n",
       "      <th>2</th>\n",
       "      <td>000247cf38d9c373e79a43121fd6b3f6.csv</td>\n",
       "      <td>1</td>\n",
       "    </tr>\n",
       "  </tbody>\n",
       "</table>\n",
       "</div>"
      ],
      "text/plain": [
       "                       sample_file_name  label\n",
       "0  0001c9f874fa7f7a5d5d21eb4aca55cd.csv      1\n",
       "1  0001cd6beea6ec459f2171f58f029217.csv      1\n",
       "2  000247cf38d9c373e79a43121fd6b3f6.csv      1"
      ]
     },
     "execution_count": 7,
     "metadata": {},
     "output_type": "execute_result"
    }
   ],
   "source": [
    "trainLabel.head(3)"
   ]
  },
  {
   "cell_type": "code",
   "execution_count": 5,
   "metadata": {},
   "outputs": [
    {
     "data": {
      "text/plain": [
       "True"
      ]
     },
     "execution_count": 5,
     "metadata": {},
     "output_type": "execute_result"
    }
   ],
   "source": [
    "len(trainDF) == len(trainLabel)"
   ]
  },
  {
   "cell_type": "code",
   "execution_count": 6,
   "metadata": {},
   "outputs": [
    {
     "data": {
      "text/html": [
       "<div>\n",
       "<style scoped>\n",
       "    .dataframe tbody tr th:only-of-type {\n",
       "        vertical-align: middle;\n",
       "    }\n",
       "\n",
       "    .dataframe tbody tr th {\n",
       "        vertical-align: top;\n",
       "    }\n",
       "\n",
       "    .dataframe thead th {\n",
       "        text-align: right;\n",
       "    }\n",
       "</style>\n",
       "<table border=\"1\" class=\"dataframe\">\n",
       "  <thead>\n",
       "    <tr style=\"text-align: right;\">\n",
       "      <th></th>\n",
       "      <th>file_name</th>\n",
       "      <th>label</th>\n",
       "    </tr>\n",
       "  </thead>\n",
       "  <tbody>\n",
       "    <tr>\n",
       "      <th>0</th>\n",
       "      <td>0001c9f874fa7f7a5d5d21eb4aca55cd.csv</td>\n",
       "      <td>1</td>\n",
       "    </tr>\n",
       "    <tr>\n",
       "      <th>1</th>\n",
       "      <td>0001cd6beea6ec459f2171f58f029217.csv</td>\n",
       "      <td>1</td>\n",
       "    </tr>\n",
       "    <tr>\n",
       "      <th>2</th>\n",
       "      <td>000247cf38d9c373e79a43121fd6b3f6.csv</td>\n",
       "      <td>1</td>\n",
       "    </tr>\n",
       "  </tbody>\n",
       "</table>\n",
       "</div>"
      ],
      "text/plain": [
       "                              file_name  label\n",
       "0  0001c9f874fa7f7a5d5d21eb4aca55cd.csv      1\n",
       "1  0001cd6beea6ec459f2171f58f029217.csv      1\n",
       "2  000247cf38d9c373e79a43121fd6b3f6.csv      1"
      ]
     },
     "execution_count": 6,
     "metadata": {},
     "output_type": "execute_result"
    }
   ],
   "source": [
    "trainLable_columns = ['file_name', 'label']\n",
    "trainLabel.columns = trainLable_columns\n",
    "trainLabel.head(3)"
   ]
  },
  {
   "cell_type": "markdown",
   "metadata": {},
   "source": [
    "### 将训练集特征与标签相融合：为了保证最后参与训练的特征都具有对应的标签，采用left join，同样，测试集也是如此。"
   ]
  },
  {
   "cell_type": "code",
   "execution_count": 7,
   "metadata": {},
   "outputs": [],
   "source": [
    "train_label_df = pd.merge(trainLabel, trainDF, on='file_name', how='left')\n",
    "features_x = train_label_df.drop('label', 1).drop('file_name', 1).get_values()\n",
    "features_y = train_label_df['label'].get_values()"
   ]
  },
  {
   "cell_type": "markdown",
   "metadata": {},
   "source": [
    "### 构造测试集特征，并保留预测的index"
   ]
  },
  {
   "cell_type": "code",
   "execution_count": 8,
   "metadata": {},
   "outputs": [],
   "source": [
    "predID = testDF['file_name']\n",
    "test = testDF.drop('file_name', 1).get_values()"
   ]
  },
  {
   "cell_type": "code",
   "execution_count": 9,
   "metadata": {},
   "outputs": [],
   "source": [
    "columns = trainDF.columns"
   ]
  },
  {
   "cell_type": "markdown",
   "metadata": {},
   "source": [
    "### 构造模型，使用5折交叉验证"
   ]
  },
  {
   "cell_type": "code",
   "execution_count": 10,
   "metadata": {},
   "outputs": [
    {
     "name": "stdout",
     "output_type": "stream",
     "text": [
      "I begin to train.....\n",
      "Training until validation scores don't improve for 100 rounds.\n",
      "[500]\tvalid_0's binary_logloss: 0.61468\n",
      "[1000]\tvalid_0's binary_logloss: 0.606308\n",
      "[1500]\tvalid_0's binary_logloss: 0.601473\n",
      "[2000]\tvalid_0's binary_logloss: 0.598494\n",
      "[2500]\tvalid_0's binary_logloss: 0.596532\n",
      "[3000]\tvalid_0's binary_logloss: 0.595474\n",
      "Early stopping, best iteration is:\n",
      "[3332]\tvalid_0's binary_logloss: 0.594734\n",
      "I begin to predict.....\n",
      "I begin to train.....\n",
      "Training until validation scores don't improve for 100 rounds.\n",
      "[500]\tvalid_0's binary_logloss: 0.612611\n",
      "[1000]\tvalid_0's binary_logloss: 0.603777\n",
      "[1500]\tvalid_0's binary_logloss: 0.598198\n",
      "[2000]\tvalid_0's binary_logloss: 0.595439\n",
      "[2500]\tvalid_0's binary_logloss: 0.592852\n",
      "[3000]\tvalid_0's binary_logloss: 0.591992\n",
      "[3500]\tvalid_0's binary_logloss: 0.591006\n",
      "Early stopping, best iteration is:\n",
      "[3433]\tvalid_0's binary_logloss: 0.590939\n",
      "I begin to predict.....\n",
      "I begin to train.....\n",
      "Training until validation scores don't improve for 100 rounds.\n",
      "[500]\tvalid_0's binary_logloss: 0.619165\n",
      "[1000]\tvalid_0's binary_logloss: 0.611093\n",
      "[1500]\tvalid_0's binary_logloss: 0.606256\n",
      "[2000]\tvalid_0's binary_logloss: 0.603011\n",
      "Early stopping, best iteration is:\n",
      "[2332]\tvalid_0's binary_logloss: 0.601137\n",
      "I begin to predict.....\n",
      "I begin to train.....\n",
      "Training until validation scores don't improve for 100 rounds.\n",
      "[500]\tvalid_0's binary_logloss: 0.614078\n",
      "[1000]\tvalid_0's binary_logloss: 0.604885\n",
      "[1500]\tvalid_0's binary_logloss: 0.59918\n",
      "[2000]\tvalid_0's binary_logloss: 0.595425\n",
      "[2500]\tvalid_0's binary_logloss: 0.592325\n",
      "[3000]\tvalid_0's binary_logloss: 0.590767\n",
      "[3500]\tvalid_0's binary_logloss: 0.589928\n",
      "Early stopping, best iteration is:\n",
      "[3882]\tvalid_0's binary_logloss: 0.58893\n",
      "I begin to predict.....\n",
      "I begin to train.....\n",
      "Training until validation scores don't improve for 100 rounds.\n",
      "[500]\tvalid_0's binary_logloss: 0.618047\n",
      "[1000]\tvalid_0's binary_logloss: 0.610438\n",
      "[1500]\tvalid_0's binary_logloss: 0.605476\n",
      "[2000]\tvalid_0's binary_logloss: 0.602085\n",
      "[2500]\tvalid_0's binary_logloss: 0.599608\n",
      "[3000]\tvalid_0's binary_logloss: 0.59746\n",
      "[3500]\tvalid_0's binary_logloss: 0.596714\n",
      "Early stopping, best iteration is:\n",
      "[3667]\tvalid_0's binary_logloss: 0.596525\n",
      "I begin to predict.....\n"
     ]
    }
   ],
   "source": [
    "# N  代表交叉验证个数\n",
    "N = 5\n",
    "skf = StratifiedKFold(n_splits=N, shuffle=False, random_state=17)\n",
    "\n",
    "# 寻找相对最佳的分割阈值， 不同的阈值放入不同的list\n",
    "xx_cv = []\n",
    "xx_f1score = []\n",
    "xx_f1score27 = []\n",
    "xx_f1score35 = []\n",
    "xx_f1score38 = []\n",
    "\n",
    "# 预测结果\n",
    "xx_pred = []\n",
    "\n",
    "sort_feature_list = []\n",
    "for train_in, test_in in skf.split(features_x, features_y):\n",
    "    # 构造训练集和验证集\n",
    "    X_train, X_test, y_train, y_test = features_x[train_in], features_x[test_in], features_y[train_in], features_y[test_in]\n",
    "    \n",
    "    # 创建lightGBM 输入数据， 以及验证集\n",
    "    lgb_train = lgb.Dataset(X_train, y_train)\n",
    "    lgb_eval = lgb.Dataset(X_test, y_test, reference=lgb_train)\n",
    "    \n",
    "    \n",
    "    # lgb 输入参数\n",
    "    params = {\n",
    "        # step1: learning_rate/boosting_type/num_boost_round\n",
    "        'boosting_type': 'gbdt',\n",
    "        'objective': 'binary',\n",
    "        'metric': {'binary_logloss'},\n",
    "        'learning_rate': 0.01,\n",
    "        \n",
    "        # step2:max_depth/num_leaves\n",
    "        'max_depth': 20,\n",
    "        'num_leaves': 128,\n",
    "        'feature_fraction': 0.9,\n",
    "        'bagging_fraction': 0.8,\n",
    "        'bagging_freq': 4,\n",
    "        'verbose': 0,\n",
    "        'lambda_l2':0.05,\n",
    "        'lambda_l1':0.05\n",
    "    }\n",
    "    params['is_unbalance']='false'\n",
    "    params['max_bin'] = 100\n",
    "    \n",
    "    # step3:min_data_in_leaf:过大会导致欠拟合\n",
    "    params['min_data_in_leaf'] = 80\n",
    "    \n",
    "    print('I begin to train.....')\n",
    "    \n",
    "    \n",
    "    # 开始训练模型\n",
    "    gbm = lgb.train(params, \n",
    "                    lgb_train, \n",
    "                    num_boost_round=10000, \n",
    "                    valid_sets=lgb_eval, \n",
    "                    verbose_eval=500, \n",
    "                    early_stopping_rounds=100)\n",
    "    \n",
    "    sort_feature = gbm.feature_importance().argsort()\n",
    "    sort_feature_list.append(columns[sort_feature])\n",
    "    print('I begin to predict.....')\n",
    "    y_pred = gbm.predict(X_test, num_iteration=gbm.best_iteration)\n",
    "    xx_cv.append(roc_auc_score(y_test, y_pred))\n",
    "    \n",
    "    \n",
    "    # 预测测试集， 并将验证集的分数存入list\n",
    "    xx_pred.append(gbm.predict(test, num_iteration=gbm.best_iteration))\n",
    "    xx_f1score.append(f1_score(y_test, pd.Series(y_pred).map(lambda x: 1 if x>0.3 else 0), average='binary'))\n",
    "    xx_f1score27.append(f1_score(y_test, pd.Series(y_pred).map(lambda x: 1 if x>0.27 else 0), average='binary'))\n",
    "    xx_f1score35.append(f1_score(y_test, pd.Series(y_pred).map(lambda x: 1 if x>0.35 else 0), average='binary'))\n",
    "    xx_f1score38.append(f1_score(y_test, pd.Series(y_pred).map(lambda x: 1 if x>0.38 else 0), average='binary'))"
   ]
  },
  {
   "cell_type": "code",
   "execution_count": 11,
   "metadata": {},
   "outputs": [
    {
     "data": {
      "text/plain": [
       "Index(['搅拌超压信号diya', '排量电流range', '样本量', '液压油温range', '分配压力range', 'file_name',\n",
       "       '油泵转速_std', '液压油温_max', '发动机转速_std', '油泵转速_max', '流量档位_std', '排量电流_std',\n",
       "       '液压油温_mean', '发动机转速_max', '泵送压力range', '泵送压力_std', '油泵转速_min',\n",
       "       '泵送压力_max', '流量档位_median', '油泵转速_mean'],\n",
       "      dtype='object')"
      ]
     },
     "execution_count": 11,
     "metadata": {},
     "output_type": "execute_result"
    }
   ],
   "source": [
    "sort_feature_list[0][:20]"
   ]
  },
  {
   "cell_type": "code",
   "execution_count": 12,
   "metadata": {},
   "outputs": [
    {
     "name": "stdout",
     "output_type": "stream",
     "text": [
      "xx_cv: 0.7417468499320157\n",
      "xx_f1score: 0.6900993944117266\n",
      "xx_f1score27 0.6866299965939867\n",
      "xx_f1score35 0.6929768712160405\n",
      "xx_f1score38 0.6923420732383911\n"
     ]
    }
   ],
   "source": [
    "print('xx_cv:', np.mean(xx_cv))\n",
    "print('xx_f1score:', np.mean(xx_f1score))\n",
    "print('xx_f1score27', np.mean(xx_f1score27))\n",
    "print('xx_f1score35', np.mean(xx_f1score35))\n",
    "print('xx_f1score38', np.mean(xx_f1score38))"
   ]
  },
  {
   "cell_type": "markdown",
   "metadata": {},
   "source": [
    "xx_cv: 0.7417468499320157\n",
    "xx_f1score: 0.6900993944117266\n",
    "xx_f1score27 0.6866299965939867\n",
    "xx_f1score35 0.6929768712160405\n",
    "xx_f1score38 0.6923420732383911"
   ]
  },
  {
   "cell_type": "markdown",
   "metadata": {},
   "source": [
    "### 根据上面的预测结果选择最优阈值：0.35"
   ]
  },
  {
   "cell_type": "code",
   "execution_count": 16,
   "metadata": {},
   "outputs": [],
   "source": [
    "s = 0\n",
    "for i in xx_pred:\n",
    "    s += pd.Series(i).map(lambda x:1 if x > 0.35 else 0)\n",
    "s  = s.map(lambda x: 1 if x>3 else 0)"
   ]
  },
  {
   "cell_type": "code",
   "execution_count": 17,
   "metadata": {},
   "outputs": [],
   "source": [
    "res = pd.DataFrame()\n",
    "res['sample_file_name'] = predID\n",
    "res['label'] = s"
   ]
  },
  {
   "cell_type": "code",
   "execution_count": 18,
   "metadata": {},
   "outputs": [
    {
     "data": {
      "text/plain": [
       "1    31913\n",
       "0    20337\n",
       "Name: label, dtype: int64"
      ]
     },
     "execution_count": 18,
     "metadata": {},
     "output_type": "execute_result"
    }
   ],
   "source": [
    "res.label.value_counts()"
   ]
  },
  {
   "cell_type": "code",
   "execution_count": 19,
   "metadata": {},
   "outputs": [],
   "source": [
    "res.to_csv('submit_2.csv', header=True, index=False)"
   ]
  }
 ],
 "metadata": {
  "kernelspec": {
   "display_name": "Python 3",
   "language": "python",
   "name": "python3"
  },
  "language_info": {
   "codemirror_mode": {
    "name": "ipython",
    "version": 3
   },
   "file_extension": ".py",
   "mimetype": "text/x-python",
   "name": "python",
   "nbconvert_exporter": "python",
   "pygments_lexer": "ipython3",
   "version": "3.6.8"
  }
 },
 "nbformat": 4,
 "nbformat_minor": 2
}
